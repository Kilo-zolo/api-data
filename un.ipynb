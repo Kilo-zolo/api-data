{
 "cells": [
  {
   "cell_type": "code",
   "execution_count": 1,
   "metadata": {},
   "outputs": [],
   "source": [
    "# Import libs\n",
    "import requests\n",
    "import pandas as pd\n",
    "import time\n",
    "from itertools import groupby"
   ]
  },
  {
   "cell_type": "code",
   "execution_count": 5,
   "metadata": {},
   "outputs": [],
   "source": [
    "# Get API specific details and store them in variables\n",
    "url = \"https://real-time-news-data.p.rapidapi.com/top-headlines\"\n",
    "\n",
    "query = {\"country\": \"IN\", \"lang\": \"en\"}\n",
    "\n",
    "head = {\n",
    "\t\"X-RapidAPI-Key\": \"7772eec8bemsh2c217cdf87c3897p1f7966jsn45efba2ad030\",\n",
    "\t\"X-RapidAPI-Host\": \"real-time-news-data.p.rapidapi.com\"\n",
    "}"
   ]
  },
  {
   "cell_type": "code",
   "execution_count": 8,
   "metadata": {},
   "outputs": [],
   "source": [
    "# Create API Call function\n",
    "def get_news_articles(url, head, query):\n",
    "    # Since smooth_data is used for the dataframe we need to make it a global variable\n",
    "    global rdata\n",
    "\n",
    "    resp = requests.request(\"GET\", url, headers=head, params=query).json()\n",
    "    rdata = resp['data']\n",
    "    \n",
    "   \n"
   ]
  },
  {
   "cell_type": "code",
   "execution_count": null,
   "metadata": {},
   "outputs": [],
   "source": [
    "\n",
    "\n",
    " # Choosing the information we want to keep from the dataset \n",
    "for article in rdata:\n",
    "    title = article['title']\n",
    "    published = article['published_datetime_utc']\n",
    "    sep = \"T\"\n",
    "    published_date = str(published).split(sep, 1)[0]\n",
    "    source = article['source_url']\n",
    "# Creating a list of the info we choose to keep\n",
    "    title_lst = []\n",
    "    pub_lst = []\n",
    "    src_lst = []\n",
    "    for i in range(len(rdata)):\n",
    "        for title in rdata[i]:\n",
    "            title_lst.append(rdata[i]['title'])\n",
    "        for published in rdata[i]:\n",
    "            pub_lst.append(published_date)\n",
    "        for source in rdata[i]:\n",
    "            src_lst.append(rdata[i]['source_url'])\n",
    "\n",
    "    # Zipping the lists together\n",
    "    rough_data = list(zip(title_lst, pub_lst, src_lst))\n",
    "\n",
    "    # Removing the consecutive duplicates\n",
    "    smooth_data = [i[0] for i in groupby(rough_data)]\n"
   ]
  },
  {
   "cell_type": "code",
   "execution_count": 9,
   "metadata": {},
   "outputs": [
    {
     "name": "stdout",
     "output_type": "stream",
     "text": [
      "Empty DataFrame\n",
      "Columns: [Title, Published_on, Source]\n",
      "Index: []\n"
     ]
    }
   ],
   "source": [
    "dframe = pd.DataFrame(smooth_data, columns=['Title', 'Published_on', 'Source'])\n",
    "print(dframe)"
   ]
  },
  {
   "cell_type": "code",
   "execution_count": null,
   "metadata": {},
   "outputs": [],
   "source": []
  }
 ],
 "metadata": {
  "kernelspec": {
   "display_name": "Python 3.10.6 ('dp-100')",
   "language": "python",
   "name": "python3"
  },
  "language_info": {
   "codemirror_mode": {
    "name": "ipython",
    "version": 3
   },
   "file_extension": ".py",
   "mimetype": "text/x-python",
   "name": "python",
   "nbconvert_exporter": "python",
   "pygments_lexer": "ipython3",
   "version": "3.10.6"
  },
  "orig_nbformat": 4,
  "vscode": {
   "interpreter": {
    "hash": "3387b6caaccea1f619cbf53410cf0941f94fc283957f8a74ba34ce8a23ccb700"
   }
  }
 },
 "nbformat": 4,
 "nbformat_minor": 2
}
